{
 "cells": [
  {
   "cell_type": "code",
   "execution_count": 6,
   "metadata": {},
   "outputs": [],
   "source": [
    "import networkx as nx\n",
    "import pandas as pd\n",
    "import plotly.figure_factory as ff\n",
    "import plotly\n",
    "import plotly.graph_objs as go\n",
    "import time\n",
    "from IPython.display import clear_output"
   ]
  },
  {
   "cell_type": "code",
   "execution_count": 7,
   "metadata": {
    "scrolled": false
   },
   "outputs": [
    {
     "data": {
      "application/vnd.plotly.v1+json": {
       "config": {
        "linkText": "Export to plot.ly",
        "plotlyServerURL": "https://plot.ly",
        "responsive": true,
        "showLink": false
       },
       "data": [
        {
         "marker": {
          "color": "white"
         },
         "name": "",
         "type": "scatter",
         "uid": "db42c5dc-1e10-45f6-8374-1e62ebc6f5e0",
         "x": [
          "0",
          "1.3333333333333333"
         ],
         "y": [
          2,
          2
         ]
        },
        {
         "marker": {
          "color": "white"
         },
         "name": "",
         "type": "scatter",
         "uid": "289044e4-e37d-4a2b-8d62-2e28be35cb08",
         "x": [
          "8.0",
          "12.8"
         ],
         "y": [
          1,
          1
         ]
        },
        {
         "marker": {
          "color": "white"
         },
         "name": "",
         "type": "scatter",
         "uid": "f9c6c03f-2d10-4a8e-b944-07a55bf7e4de",
         "x": [
          "14.333333333333334",
          "17.333333333333336"
         ],
         "y": [
          2,
          2
         ]
        },
        {
         "marker": {
          "color": "white"
         },
         "name": "",
         "type": "scatter",
         "uid": "f36205af-a469-4dcc-95a9-0d36c294149e",
         "x": [
          "0",
          "8.0"
         ],
         "y": [
          1,
          1
         ]
        },
        {
         "marker": {
          "color": "white"
         },
         "name": "",
         "type": "scatter",
         "uid": "fce47b98-6e3c-43fa-8233-e6fb659e255d",
         "x": [
          "1.3333333333333333",
          "14.333333333333334"
         ],
         "y": [
          2,
          2
         ]
        },
        {
         "marker": {
          "color": "white"
         },
         "name": "",
         "type": "scatter",
         "uid": "9ae2c670-1191-4e95-8c67-b7903d2d25e9",
         "x": [
          "1.3333333333333333",
          "9.333333333333334"
         ],
         "y": [
          0,
          0
         ]
        },
        {
         "marker": {
          "color": "white"
         },
         "name": "",
         "type": "scatter",
         "uid": "35d40253-8f96-4a11-83b3-86a27cd71ebf",
         "x": [
          "9.333333333333334",
          "12.666666666666668"
         ],
         "y": [
          0,
          0
         ]
        },
        {
         "marker": {
          "color": "white"
         },
         "name": "",
         "type": "scatter",
         "uid": "65d9f81f-4b47-445d-a3ac-c1b845b6a969",
         "x": [
          "17.333333333333336",
          "19.733333333333334"
         ],
         "y": [
          2,
          2
         ]
        },
        {
         "marker": {
          "color": "white"
         },
         "name": "",
         "type": "scatter",
         "uid": "aff4a537-deb2-42c7-9b0c-6be9c1a6d5d8",
         "x": [
          "12.8",
          "18.8"
         ],
         "y": [
          1,
          1
         ]
        },
        {
         "marker": {
          "color": "white"
         },
         "name": "",
         "type": "scatter",
         "uid": "73498825-631e-4fa3-b8ce-6c3c3c4d90e5",
         "x": [
          "14.333333333333334",
          "17.333333333333336"
         ],
         "y": [
          0,
          0
         ]
        },
        {
         "hoverinfo": "none",
         "marker": {
          "color": "rgb(31, 119, 180)",
          "size": 1
         },
         "name": "0",
         "showlegend": true,
         "type": "scatter",
         "uid": "077fea9a-5fa1-4fbb-810f-1863ac181d40",
         "x": [
          "14.333333333333334",
          "14.333333333333334"
         ],
         "y": [
          0,
          0
         ]
        },
        {
         "hoverinfo": "none",
         "marker": {
          "color": "rgb(255, 127, 14)",
          "size": 1
         },
         "name": "1",
         "showlegend": true,
         "type": "scatter",
         "uid": "8c918588-2b9f-4b36-a26e-5d68934d901b",
         "x": [
          "14.333333333333334",
          "14.333333333333334"
         ],
         "y": [
          1,
          1
         ]
        },
        {
         "hoverinfo": "none",
         "marker": {
          "color": "rgb(44, 160, 44)",
          "size": 1
         },
         "name": "2",
         "showlegend": true,
         "type": "scatter",
         "uid": "6183926f-e9bf-4463-a0d7-81520ddff348",
         "x": [
          "14.333333333333334",
          "14.333333333333334"
         ],
         "y": [
          2,
          2
         ]
        },
        {
         "hoverinfo": "none",
         "marker": {
          "color": "rgb(214, 39, 40)",
          "size": 1
         },
         "name": "3",
         "showlegend": true,
         "type": "scatter",
         "uid": "f5a7b7b4-7afb-4955-92ce-103179789a07",
         "x": [
          "14.333333333333334",
          "14.333333333333334"
         ],
         "y": [
          3,
          3
         ]
        },
        {
         "hoverinfo": "none",
         "marker": {
          "color": "rgb(148, 103, 189)",
          "size": 1
         },
         "name": "4",
         "showlegend": true,
         "type": "scatter",
         "uid": "a2bbcca0-81d2-4041-8748-3a8e1794218f",
         "x": [
          "14.333333333333334",
          "14.333333333333334"
         ],
         "y": [
          4,
          4
         ]
        },
        {
         "hoverinfo": "none",
         "marker": {
          "color": "rgb(140, 86, 75)",
          "size": 1
         },
         "name": "5",
         "showlegend": true,
         "type": "scatter",
         "uid": "7f1d0d26-8315-427a-bd1b-e18774f43e0a",
         "x": [
          "14.333333333333334",
          "14.333333333333334"
         ],
         "y": [
          5,
          5
         ]
        },
        {
         "hoverinfo": "none",
         "marker": {
          "color": "rgb(227, 119, 194)",
          "size": 1
         },
         "name": "6",
         "showlegend": true,
         "type": "scatter",
         "uid": "b69465ef-7e29-4bc5-a3f6-10480c3ad198",
         "x": [
          "14.333333333333334",
          "14.333333333333334"
         ],
         "y": [
          6,
          6
         ]
        },
        {
         "hoverinfo": "none",
         "marker": {
          "color": "rgb(127, 127, 127)",
          "size": 1
         },
         "name": "7",
         "showlegend": true,
         "type": "scatter",
         "uid": "952dc396-8571-45a8-9b97-98a5b9804d51",
         "x": [
          "14.333333333333334",
          "14.333333333333334"
         ],
         "y": [
          7,
          7
         ]
        },
        {
         "hoverinfo": "none",
         "marker": {
          "color": "rgb(188, 189, 34)",
          "size": 1
         },
         "name": "8",
         "showlegend": true,
         "type": "scatter",
         "uid": "64be403c-7eb7-42b1-bf53-8c2e96b38d66",
         "x": [
          "14.333333333333334",
          "14.333333333333334"
         ],
         "y": [
          8,
          8
         ]
        },
        {
         "hoverinfo": "none",
         "marker": {
          "color": "rgb(23, 190, 207)",
          "size": 1
         },
         "name": "9",
         "showlegend": true,
         "type": "scatter",
         "uid": "f2e09048-a6a6-4699-b060-bc2e2945ab7a",
         "x": [
          "14.333333333333334",
          "14.333333333333334"
         ],
         "y": [
          9,
          9
         ]
        }
       ],
       "layout": {
        "height": 600,
        "hovermode": "closest",
        "shapes": [
         {
          "fillcolor": "rgb(31, 119, 180)",
          "line": {
           "width": 0
          },
          "opacity": 1,
          "type": "rect",
          "x0": "0",
          "x1": "1.3333333333333333",
          "xref": "x",
          "y0": 1.8,
          "y1": 2.2,
          "yref": "y"
         },
         {
          "fillcolor": "rgb(255, 127, 14)",
          "line": {
           "width": 0
          },
          "opacity": 1,
          "type": "rect",
          "x0": "8.0",
          "x1": "12.8",
          "xref": "x",
          "y0": 0.8,
          "y1": 1.2,
          "yref": "y"
         },
         {
          "fillcolor": "rgb(44, 160, 44)",
          "line": {
           "width": 0
          },
          "opacity": 1,
          "type": "rect",
          "x0": "14.333333333333334",
          "x1": "17.333333333333336",
          "xref": "x",
          "y0": 1.8,
          "y1": 2.2,
          "yref": "y"
         },
         {
          "fillcolor": "rgb(214, 39, 40)",
          "line": {
           "width": 0
          },
          "opacity": 1,
          "type": "rect",
          "x0": "0",
          "x1": "8.0",
          "xref": "x",
          "y0": 0.8,
          "y1": 1.2,
          "yref": "y"
         },
         {
          "fillcolor": "rgb(148, 103, 189)",
          "line": {
           "width": 0
          },
          "opacity": 1,
          "type": "rect",
          "x0": "1.3333333333333333",
          "x1": "14.333333333333334",
          "xref": "x",
          "y0": 1.8,
          "y1": 2.2,
          "yref": "y"
         },
         {
          "fillcolor": "rgb(140, 86, 75)",
          "line": {
           "width": 0
          },
          "opacity": 1,
          "type": "rect",
          "x0": "1.3333333333333333",
          "x1": "9.333333333333334",
          "xref": "x",
          "y0": -0.2,
          "y1": 0.2,
          "yref": "y"
         },
         {
          "fillcolor": "rgb(227, 119, 194)",
          "line": {
           "width": 0
          },
          "opacity": 1,
          "type": "rect",
          "x0": "9.333333333333334",
          "x1": "12.666666666666668",
          "xref": "x",
          "y0": -0.2,
          "y1": 0.2,
          "yref": "y"
         },
         {
          "fillcolor": "rgb(127, 127, 127)",
          "line": {
           "width": 0
          },
          "opacity": 1,
          "type": "rect",
          "x0": "17.333333333333336",
          "x1": "19.733333333333334",
          "xref": "x",
          "y0": 1.8,
          "y1": 2.2,
          "yref": "y"
         },
         {
          "fillcolor": "rgb(188, 189, 34)",
          "line": {
           "width": 0
          },
          "opacity": 1,
          "type": "rect",
          "x0": "12.8",
          "x1": "18.8",
          "xref": "x",
          "y0": 0.8,
          "y1": 1.2,
          "yref": "y"
         },
         {
          "fillcolor": "rgb(23, 190, 207)",
          "line": {
           "width": 0
          },
          "opacity": 1,
          "type": "rect",
          "x0": "14.333333333333334",
          "x1": "17.333333333333336",
          "xref": "x",
          "y0": -0.2,
          "y1": 0.2,
          "yref": "y"
         }
        ],
        "showlegend": true,
        "title": {
         "text": "Scheduled Tasks Graph"
        },
        "width": 900,
        "xaxis": {
         "rangeselector": {
          "buttons": [
           {
            "count": 7,
            "label": "1w",
            "step": "day",
            "stepmode": "backward"
           },
           {
            "count": 1,
            "label": "1m",
            "step": "month",
            "stepmode": "backward"
           },
           {
            "count": 6,
            "label": "6m",
            "step": "month",
            "stepmode": "backward"
           },
           {
            "count": 1,
            "label": "YTD",
            "step": "year",
            "stepmode": "todate"
           },
           {
            "count": 1,
            "label": "1y",
            "step": "year",
            "stepmode": "backward"
           },
           {
            "step": "all"
           }
          ]
         },
         "showgrid": false,
         "type": "linear",
         "zeroline": false
        },
        "yaxis": {
         "autorange": false,
         "range": [
          -1,
          4
         ],
         "showgrid": false,
         "ticktext": [
          "Machine  1",
          "Machine  0",
          "Machine  2"
         ],
         "tickvals": [
          0,
          1,
          2
         ],
         "zeroline": false
        }
       }
      },
      "text/html": [
       "<div>\n",
       "        \n",
       "        \n",
       "            <div id=\"9cb43025-121f-48a2-98d4-b18b1fa77b83\" class=\"plotly-graph-div\" style=\"height:600px; width:900px;\"></div>\n",
       "            <script type=\"text/javascript\">\n",
       "                require([\"plotly\"], function(Plotly) {\n",
       "                    window.PLOTLYENV=window.PLOTLYENV || {};\n",
       "                    window.PLOTLYENV.BASE_URL='https://plot.ly';\n",
       "                    \n",
       "                if (document.getElementById(\"9cb43025-121f-48a2-98d4-b18b1fa77b83\")) {\n",
       "                    Plotly.newPlot(\n",
       "                        '9cb43025-121f-48a2-98d4-b18b1fa77b83',\n",
       "                        [{\"marker\": {\"color\": \"white\"}, \"name\": \"\", \"type\": \"scatter\", \"uid\": \"9a5e9367-c35a-4d15-9c77-6a99d00facdd\", \"x\": [\"0\", \"1.3333333333333333\"], \"y\": [2, 2]}, {\"marker\": {\"color\": \"white\"}, \"name\": \"\", \"type\": \"scatter\", \"uid\": \"40f5b409-c7ec-4d6c-abe3-7ccf4c8afca8\", \"x\": [\"8.0\", \"12.8\"], \"y\": [1, 1]}, {\"marker\": {\"color\": \"white\"}, \"name\": \"\", \"type\": \"scatter\", \"uid\": \"d8c1341e-8183-4484-91e3-05fa74f41d43\", \"x\": [\"14.333333333333334\", \"17.333333333333336\"], \"y\": [2, 2]}, {\"marker\": {\"color\": \"white\"}, \"name\": \"\", \"type\": \"scatter\", \"uid\": \"e4784b9e-6228-4f57-887a-5d932827bb47\", \"x\": [\"0\", \"8.0\"], \"y\": [1, 1]}, {\"marker\": {\"color\": \"white\"}, \"name\": \"\", \"type\": \"scatter\", \"uid\": \"76bb2a46-5d50-4ab8-b76b-fe2ae786e983\", \"x\": [\"1.3333333333333333\", \"14.333333333333334\"], \"y\": [2, 2]}, {\"marker\": {\"color\": \"white\"}, \"name\": \"\", \"type\": \"scatter\", \"uid\": \"bc921409-8de2-46dc-843b-feb62aae1fe7\", \"x\": [\"1.3333333333333333\", \"9.333333333333334\"], \"y\": [0, 0]}, {\"marker\": {\"color\": \"white\"}, \"name\": \"\", \"type\": \"scatter\", \"uid\": \"ae820ac3-03d0-4fcf-b0ea-1dfd616d138b\", \"x\": [\"9.333333333333334\", \"12.666666666666668\"], \"y\": [0, 0]}, {\"marker\": {\"color\": \"white\"}, \"name\": \"\", \"type\": \"scatter\", \"uid\": \"4ec7765b-0add-4480-ab37-5b371b3027f1\", \"x\": [\"17.333333333333336\", \"19.733333333333334\"], \"y\": [2, 2]}, {\"marker\": {\"color\": \"white\"}, \"name\": \"\", \"type\": \"scatter\", \"uid\": \"b0cccb65-10c4-4d72-a93f-782475172c34\", \"x\": [\"12.8\", \"18.8\"], \"y\": [1, 1]}, {\"marker\": {\"color\": \"white\"}, \"name\": \"\", \"type\": \"scatter\", \"uid\": \"eebdcc06-30ac-447e-8946-28a062e8cfb7\", \"x\": [\"14.333333333333334\", \"17.333333333333336\"], \"y\": [0, 0]}, {\"hoverinfo\": \"none\", \"marker\": {\"color\": \"rgb(31, 119, 180)\", \"size\": 1}, \"name\": \"0\", \"showlegend\": true, \"type\": \"scatter\", \"uid\": \"cff7ebe3-35cc-4c37-b658-b576a956f842\", \"x\": [\"14.333333333333334\", \"14.333333333333334\"], \"y\": [0, 0]}, {\"hoverinfo\": \"none\", \"marker\": {\"color\": \"rgb(255, 127, 14)\", \"size\": 1}, \"name\": \"1\", \"showlegend\": true, \"type\": \"scatter\", \"uid\": \"69ddca5b-d8de-41f8-99a8-0e381981b9b3\", \"x\": [\"14.333333333333334\", \"14.333333333333334\"], \"y\": [1, 1]}, {\"hoverinfo\": \"none\", \"marker\": {\"color\": \"rgb(44, 160, 44)\", \"size\": 1}, \"name\": \"2\", \"showlegend\": true, \"type\": \"scatter\", \"uid\": \"e2808aca-f6d2-4cd8-a1e4-0a47cb6c5026\", \"x\": [\"14.333333333333334\", \"14.333333333333334\"], \"y\": [2, 2]}, {\"hoverinfo\": \"none\", \"marker\": {\"color\": \"rgb(214, 39, 40)\", \"size\": 1}, \"name\": \"3\", \"showlegend\": true, \"type\": \"scatter\", \"uid\": \"741f5ea9-b8c3-4c2a-b4fd-81326ea22c24\", \"x\": [\"14.333333333333334\", \"14.333333333333334\"], \"y\": [3, 3]}, {\"hoverinfo\": \"none\", \"marker\": {\"color\": \"rgb(148, 103, 189)\", \"size\": 1}, \"name\": \"4\", \"showlegend\": true, \"type\": \"scatter\", \"uid\": \"7b56847d-2575-4225-81f5-0140f663b11b\", \"x\": [\"14.333333333333334\", \"14.333333333333334\"], \"y\": [4, 4]}, {\"hoverinfo\": \"none\", \"marker\": {\"color\": \"rgb(140, 86, 75)\", \"size\": 1}, \"name\": \"5\", \"showlegend\": true, \"type\": \"scatter\", \"uid\": \"4d5f8101-4aea-4ce0-a294-122a5268b7b5\", \"x\": [\"14.333333333333334\", \"14.333333333333334\"], \"y\": [5, 5]}, {\"hoverinfo\": \"none\", \"marker\": {\"color\": \"rgb(227, 119, 194)\", \"size\": 1}, \"name\": \"6\", \"showlegend\": true, \"type\": \"scatter\", \"uid\": \"dc727558-79c3-4d93-8b3d-cf82c0f7d89f\", \"x\": [\"14.333333333333334\", \"14.333333333333334\"], \"y\": [6, 6]}, {\"hoverinfo\": \"none\", \"marker\": {\"color\": \"rgb(127, 127, 127)\", \"size\": 1}, \"name\": \"7\", \"showlegend\": true, \"type\": \"scatter\", \"uid\": \"4a546096-1e45-4dae-ace4-8bc37d7c8c5a\", \"x\": [\"14.333333333333334\", \"14.333333333333334\"], \"y\": [7, 7]}, {\"hoverinfo\": \"none\", \"marker\": {\"color\": \"rgb(188, 189, 34)\", \"size\": 1}, \"name\": \"8\", \"showlegend\": true, \"type\": \"scatter\", \"uid\": \"65ca5f5d-5eef-4500-b91c-24c1084d0681\", \"x\": [\"14.333333333333334\", \"14.333333333333334\"], \"y\": [8, 8]}, {\"hoverinfo\": \"none\", \"marker\": {\"color\": \"rgb(23, 190, 207)\", \"size\": 1}, \"name\": \"9\", \"showlegend\": true, \"type\": \"scatter\", \"uid\": \"86e746ef-4ee6-4541-8ddd-c131c8334a94\", \"x\": [\"14.333333333333334\", \"14.333333333333334\"], \"y\": [9, 9]}],\n",
       "                        {\"height\": 600, \"hovermode\": \"closest\", \"shapes\": [{\"fillcolor\": \"rgb(31, 119, 180)\", \"line\": {\"width\": 0}, \"opacity\": 1, \"type\": \"rect\", \"x0\": \"0\", \"x1\": \"1.3333333333333333\", \"xref\": \"x\", \"y0\": 1.8, \"y1\": 2.2, \"yref\": \"y\"}, {\"fillcolor\": \"rgb(255, 127, 14)\", \"line\": {\"width\": 0}, \"opacity\": 1, \"type\": \"rect\", \"x0\": \"8.0\", \"x1\": \"12.8\", \"xref\": \"x\", \"y0\": 0.8, \"y1\": 1.2, \"yref\": \"y\"}, {\"fillcolor\": \"rgb(44, 160, 44)\", \"line\": {\"width\": 0}, \"opacity\": 1, \"type\": \"rect\", \"x0\": \"14.333333333333334\", \"x1\": \"17.333333333333336\", \"xref\": \"x\", \"y0\": 1.8, \"y1\": 2.2, \"yref\": \"y\"}, {\"fillcolor\": \"rgb(214, 39, 40)\", \"line\": {\"width\": 0}, \"opacity\": 1, \"type\": \"rect\", \"x0\": \"0\", \"x1\": \"8.0\", \"xref\": \"x\", \"y0\": 0.8, \"y1\": 1.2, \"yref\": \"y\"}, {\"fillcolor\": \"rgb(148, 103, 189)\", \"line\": {\"width\": 0}, \"opacity\": 1, \"type\": \"rect\", \"x0\": \"1.3333333333333333\", \"x1\": \"14.333333333333334\", \"xref\": \"x\", \"y0\": 1.8, \"y1\": 2.2, \"yref\": \"y\"}, {\"fillcolor\": \"rgb(140, 86, 75)\", \"line\": {\"width\": 0}, \"opacity\": 1, \"type\": \"rect\", \"x0\": \"1.3333333333333333\", \"x1\": \"9.333333333333334\", \"xref\": \"x\", \"y0\": -0.2, \"y1\": 0.2, \"yref\": \"y\"}, {\"fillcolor\": \"rgb(227, 119, 194)\", \"line\": {\"width\": 0}, \"opacity\": 1, \"type\": \"rect\", \"x0\": \"9.333333333333334\", \"x1\": \"12.666666666666668\", \"xref\": \"x\", \"y0\": -0.2, \"y1\": 0.2, \"yref\": \"y\"}, {\"fillcolor\": \"rgb(127, 127, 127)\", \"line\": {\"width\": 0}, \"opacity\": 1, \"type\": \"rect\", \"x0\": \"17.333333333333336\", \"x1\": \"19.733333333333334\", \"xref\": \"x\", \"y0\": 1.8, \"y1\": 2.2, \"yref\": \"y\"}, {\"fillcolor\": \"rgb(188, 189, 34)\", \"line\": {\"width\": 0}, \"opacity\": 1, \"type\": \"rect\", \"x0\": \"12.8\", \"x1\": \"18.8\", \"xref\": \"x\", \"y0\": 0.8, \"y1\": 1.2, \"yref\": \"y\"}, {\"fillcolor\": \"rgb(23, 190, 207)\", \"line\": {\"width\": 0}, \"opacity\": 1, \"type\": \"rect\", \"x0\": \"14.333333333333334\", \"x1\": \"17.333333333333336\", \"xref\": \"x\", \"y0\": -0.2, \"y1\": 0.2, \"yref\": \"y\"}], \"showlegend\": true, \"title\": {\"text\": \"Scheduled Tasks Graph\"}, \"width\": 900, \"xaxis\": {\"rangeselector\": {\"buttons\": [{\"count\": 7, \"label\": \"1w\", \"step\": \"day\", \"stepmode\": \"backward\"}, {\"count\": 1, \"label\": \"1m\", \"step\": \"month\", \"stepmode\": \"backward\"}, {\"count\": 6, \"label\": \"6m\", \"step\": \"month\", \"stepmode\": \"backward\"}, {\"count\": 1, \"label\": \"YTD\", \"step\": \"year\", \"stepmode\": \"todate\"}, {\"count\": 1, \"label\": \"1y\", \"step\": \"year\", \"stepmode\": \"backward\"}, {\"step\": \"all\"}]}, \"showgrid\": false, \"type\": \"linear\", \"zeroline\": false}, \"yaxis\": {\"autorange\": false, \"range\": [-1, 4], \"showgrid\": false, \"ticktext\": [\"Machine  1\", \"Machine  0\", \"Machine  2\"], \"tickvals\": [0, 1, 2], \"zeroline\": false}},\n",
       "                        {\"showLink\": false, \"linkText\": \"Export to plot.ly\", \"plotlyServerURL\": \"https://plot.ly\", \"responsive\": true}\n",
       "                    ).then(function(){\n",
       "                            \n",
       "var gd = document.getElementById('9cb43025-121f-48a2-98d4-b18b1fa77b83');\n",
       "var x = new MutationObserver(function (mutations, observer) {{\n",
       "        var display = window.getComputedStyle(gd).display;\n",
       "        if (!display || display === 'none') {{\n",
       "            console.log([gd, 'removed!']);\n",
       "            Plotly.purge(gd);\n",
       "            observer.disconnect();\n",
       "        }}\n",
       "}});\n",
       "\n",
       "// Listen for the removal of the full notebook cells\n",
       "var notebookContainer = gd.closest('#notebook-container');\n",
       "if (notebookContainer) {{\n",
       "    x.observe(notebookContainer, {childList: true});\n",
       "}}\n",
       "\n",
       "// Listen for the clearing of the current output cell\n",
       "var outputEl = gd.closest('.output');\n",
       "if (outputEl) {{\n",
       "    x.observe(outputEl, {childList: true});\n",
       "}}\n",
       "\n",
       "                        })\n",
       "                };\n",
       "                });\n",
       "            </script>\n",
       "        </div>"
      ]
     },
     "metadata": {},
     "output_type": "display_data"
    },
    {
     "name": "stdout",
     "output_type": "stream",
     "text": [
      "\n",
      "\n",
      "Maximum Engagment Time is 19.733333333333334 On Machine: 2 \n",
      "\n",
      "\n",
      "\n"
     ]
    },
    {
     "data": {
      "image/png": "[encoded data removed]",
      "text/plain": [
       "<Figure size 432x288 with 1 Axes>"
      ]
     },
     "metadata": {},
     "output_type": "display_data"
    }
   ],
   "source": [
    "class Machine:\n",
    "    \n",
    "    def __init__(self,id,mips):\n",
    "        self.id=id\n",
    "        self.free_time=0\n",
    "        self.mips=mips\n",
    "        self.t_ava=0\n",
    "\n",
    "class Job:\n",
    "\n",
    "    def __init__(self, id, dependency , dependent ,size):\n",
    "        self.id=id\n",
    "        self.dependency=dependency\n",
    "        self.dependent=dependent\n",
    "        self.size=size\n",
    "        self.is_done=0\n",
    "        self.tdep=-1\n",
    "        self.stop=float(\"inf\")\n",
    "        self.start=0\n",
    "        self.ass_mach_id=-1\n",
    "        \n",
    "        \n",
    "def plausible():\n",
    "    plausible=[]\n",
    "    for i in range(G.number_of_nodes()):\n",
    "        if nodes[i].is_done == 0 and nodes[i].tdep != -1:\n",
    "            plausible.append(nodes[i])\n",
    "    return plausible\n",
    "        \n",
    "def all_done():\n",
    "    for i in range(G.number_of_nodes()):\n",
    "        if nodes[i].is_done == 0:\n",
    "            return False\n",
    "    return True\n",
    "            \n",
    "def update_tdep():\n",
    "    for i in range(G.number_of_nodes()):\n",
    "        maxim=float(\"-inf\")\n",
    "        for j in range(len(nodes[i].dependency)):\n",
    "            tmp=nodes[i].dependency[j]\n",
    "            if nodes[tmp].stop > maxim: \n",
    "                    maxim=nodes[tmp].stop\n",
    "        if maxim != float(\"-inf\") and maxim!= float(\"inf\"):                    \n",
    "            nodes[i].tdep= maxim\n",
    "    \n",
    "job_list=pd.read_csv(\"dependency.txt\" , sep=\",\" , header=None)\n",
    "\n",
    "\n",
    "\n",
    "m_power=[1000,1200,1500]\n",
    "j_volume=[2000,4800,4500,8000,19500,9600,4000,3600,6000,3600]\n",
    "\n",
    "machines=[]\n",
    "for i in range(len(m_power)):\n",
    "      machines.append(Machine(i, m_power[i]))\n",
    "\n",
    "\n",
    "        \n",
    "G=nx.DiGraph()\n",
    "               \n",
    "length= len(job_list[job_list[0][:]])  \n",
    "            \n",
    "for i in range(length):\n",
    "    for j in range(length):\n",
    "               if job_list[i][j] == 1:\n",
    "                G.add_edge(i,j)\n",
    "                \n",
    "nx.draw(G ,with_labels = True, pos = nx.drawing.nx_agraph.graphviz_layout(G), node_color='brown',\n",
    "        node_size=600, edge_color='#003300', linewidths=1, font_size=20 ,font_color=\"white\")\n",
    "\n",
    "out_degree=[]\n",
    "in_edge=[]\n",
    "tmp=[]\n",
    "for i in range(length):\n",
    "    out_degree.append(G.out_degree(i))\n",
    "    a=G.in_edges(i)\n",
    "    a=zip(*a)\n",
    "    tmp.append(list(a))\n",
    "\n",
    "    if tmp[i]:\n",
    "        in_edge.append(list(tmp[i][0]))\n",
    "    else:\n",
    "        in_edge.append([])\n",
    "\n",
    "nodes=[]\n",
    "for i in range(G.number_of_nodes()):\n",
    "    nodes.append(Job(i,in_edge[i],out_degree[i],j_volume[i]))\n",
    "    \n",
    "    if len(nodes[i].dependency) == 0:\n",
    "        nodes[i].tdep = 0\n",
    "\n",
    "\n",
    "while(not all_done()):\n",
    "            \n",
    "    pls=plausible()\n",
    "    \n",
    "    pos = sorted(pls, key=lambda x: (-x.dependent , -x.size ))\n",
    "    \n",
    "    \n",
    "    for t in range(len(machines)):\n",
    "        machines[t].t_ava= max(machines[t].free_time , pos[0].tdep)\n",
    "            \n",
    "    m_list= sorted(machines, key = lambda x : (x.t_ava ,-x.mips)) \n",
    "\n",
    "\n",
    "        \n",
    "    i=0\n",
    "    job=pos[i]\n",
    "    j=0\n",
    "\n",
    "    m_list[j].free_time=m_list[j].t_ava+(pos[i].size/m_list[j].mips)\n",
    "\n",
    "    machines=m_list\n",
    "\n",
    "    for k in range (G.number_of_nodes()):\n",
    "        if(nodes[k].id==pos[i].id):\n",
    "            nodes[k].start=m_list[j].t_ava\n",
    "            nodes[k].is_done=1\n",
    "            nodes[k].stop=m_list[j].free_time\n",
    "            nodes[k].ass_mach_id= m_list[j].id\n",
    "            \n",
    "    update_tdep()   \n",
    "\n",
    "maximum_time=float(\"-inf\")\n",
    "for i in range(len(m_list)):\n",
    "    if m_list[i].free_time > maximum_time:\n",
    "        maximum_time = m_list[i].free_time\n",
    "        max_id=m_list[i].id\n",
    "            \n",
    "    \n",
    "init_notebook_mode(connected=True)\n",
    "\n",
    "    \n",
    "df=[]\n",
    "for i in range(G.number_of_nodes()):\n",
    "    time.sleep(1.5)    \n",
    "    clear_output()\n",
    "    df.append(dict(Task=\"Machine  \"+str(nodes[i].ass_mach_id), Start=str(nodes[i].start), Finish=str(nodes[i].stop), Resource=str(nodes[i].id)))\n",
    "    fig = go.FigureWidget(ff.create_gantt(df, title=\"Scheduled Tasks Graph\" , index_col='Resource' , show_colorbar=True, group_tasks=True ) )\n",
    "    fig.layout.xaxis.type = 'linear'\n",
    "    plotly.offline.iplot(fig)   \n",
    "\n",
    "\n",
    "print (\"\\n\\nMaximum Engagment Time is\", maximum_time , \"On Machine:\" , max_id ,\"\\n\\n\\n\" )\n"
   ]
  },
  {
   "cell_type": "code",
   "execution_count": null,
   "metadata": {},
   "outputs": [],
   "source": [
    "\n",
    "\n",
    "\n",
    "\n",
    "\n",
    "\n",
    "\n",
    "\n",
    "\n",
    "\n",
    "\n",
    "\n",
    "\n",
    "\n",
    "\n",
    "\n",
    "\n",
    "\n",
    "\n",
    "\n",
    "\n",
    "\n",
    "\n",
    "\n",
    "\n",
    "\n"
   ]
  }
 ],
 "metadata": {
  "kernelspec": {
   "display_name": "Python 3",
   "language": "python",
   "name": "python3"
  },
  "language_info": {
   "codemirror_mode": {
    "name": "ipython",
    "version": 3
   },
   "file_extension": ".py",
   "mimetype": "text/x-python",
   "name": "python",
   "nbconvert_exporter": "python",
   "pygments_lexer": "ipython3",
   "version": "3.7.3"
  }
 },
 "nbformat": 4,
 "nbformat_minor": 2
}
